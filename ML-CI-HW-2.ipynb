{
 "cells": [
  {
   "cell_type": "code",
   "execution_count": null,
   "id": "1f3fa675",
   "metadata": {},
   "outputs": [],
   "source": [
    "# Step 1 - 3"
   ]
  },
  {
   "cell_type": "code",
   "execution_count": null,
   "id": "405768f3",
   "metadata": {},
   "outputs": [],
   "source": [
    "''' \n",
    "1) Split the dataset into D1 and D2. Make sure there is similar proportion of treated (e401=1) in both groups.\n",
    "2) Start with D1. Split D1 into two:\n",
    "    a) D1_1 with e401 = 1\n",
    "    b) D1_0 with e401 = 0\n",
    "3) Train two models, one for D1_1, and another for D1_0, f1 and f0, respectively (as both models use \n",
    "Random Forest or Boosting)\n",
    "'''"
   ]
  },
  {
   "cell_type": "code",
   "execution_count": null,
   "id": "0fd50ce1",
   "metadata": {},
   "outputs": [],
   "source": [
    "#code"
   ]
  },
  {
   "cell_type": "code",
   "execution_count": null,
   "id": "5c7b85fa",
   "metadata": {},
   "outputs": [],
   "source": [
    "# Step 4-6"
   ]
  },
  {
   "cell_type": "code",
   "execution_count": null,
   "id": "c911263d",
   "metadata": {},
   "outputs": [],
   "source": [
    "'''\n",
    "4) Make predictions on the complementary dataset D2, and calculate the ATE_2 as the average of f1(D2) - f0(D2)\n",
    "5) Repeat the process switching roles between D1 and D2, and calculate the ATE = (ATE_1 + ATE_2)/2\n",
    "6) Include the previous process inside a ‘for’ loop.\n",
    "'''"
   ]
  },
  {
   "cell_type": "code",
   "execution_count": null,
   "id": "5dda69dc",
   "metadata": {},
   "outputs": [],
   "source": [
    "#code"
   ]
  },
  {
   "cell_type": "code",
   "execution_count": null,
   "id": "61b7cccc",
   "metadata": {},
   "outputs": [],
   "source": [
    "#Step 7 & 8 and documentation"
   ]
  },
  {
   "cell_type": "code",
   "execution_count": null,
   "id": "23f8612b",
   "metadata": {},
   "outputs": [],
   "source": [
    "'''\n",
    "7) Pick a random sample (with replacement) of the original dataset D, which we will call D_boostrap, and calculate the ATE with the process described in the previous slide of the D_boostrap\n",
    "8) Get the results for all the resamplings and calculate the mean and confidence intervals (quantiles 2.5%, 97.5%) of the ATEs.\n",
    "'''"
   ]
  },
  {
   "cell_type": "code",
   "execution_count": null,
   "id": "c32d34d6",
   "metadata": {},
   "outputs": [],
   "source": [
    "#code"
   ]
  }
 ],
 "metadata": {
  "kernelspec": {
   "display_name": "Python 3 (ipykernel)",
   "language": "python",
   "name": "python3"
  },
  "language_info": {
   "codemirror_mode": {
    "name": "ipython",
    "version": 3
   },
   "file_extension": ".py",
   "mimetype": "text/x-python",
   "name": "python",
   "nbconvert_exporter": "python",
   "pygments_lexer": "ipython3",
   "version": "3.10.6"
  }
 },
 "nbformat": 4,
 "nbformat_minor": 5
}
