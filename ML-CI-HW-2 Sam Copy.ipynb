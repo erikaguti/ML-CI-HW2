{
 "cells": [
  {
   "cell_type": "code",
   "execution_count": 112,
   "id": "1f3fa675",
   "metadata": {},
   "outputs": [],
   "source": [
    "# Step 1 - 3"
   ]
  },
  {
   "cell_type": "code",
   "execution_count": 113,
   "id": "405768f3",
   "metadata": {},
   "outputs": [
    {
     "data": {
      "text/plain": [
       "' \\n1) Split the dataset into D1 and D2. Make sure there is similar proportion of treated (e401=1) in both groups.\\n2) Start with D1. Split D1 into two:\\n    a) D1_1 with e401 = 1\\n    b) D1_0 with e401 = 0\\n3) Train two models, one for D1_1, and another for D1_0, f1 and f0, respectively (as both models use \\nRandom Forest or Boosting)\\n'"
      ]
     },
     "execution_count": 113,
     "metadata": {},
     "output_type": "execute_result"
    }
   ],
   "source": [
    "''' \n",
    "1) Split the dataset into D1 and D2. Make sure there is similar proportion of treated (e401=1) in both groups.\n",
    "2) Start with D1. Split D1 into two:\n",
    "    a) D1_1 with e401 = 1\n",
    "    b) D1_0 with e401 = 0\n",
    "3) Train two models, one for D1_1, and another for D1_0, f1 and f0, respectively (as both models use \n",
    "Random Forest or Boosting)\n",
    "'''"
   ]
  },
  {
   "cell_type": "code",
   "execution_count": 114,
   "id": "4a54d793",
   "metadata": {},
   "outputs": [],
   "source": [
    "import numpy as np\n",
    "import pandas as pd\n",
    "import doubleml as dml\n",
    "from doubleml.datasets import fetch_401K\n",
    "from sklearn.ensemble import RandomForestRegressor\n",
    "from sklearn.preprocessing import StandardScaler\n",
    "from sklearn.model_selection import train_test_split\n",
    "from sklearn.model_selection import GridSearchCV"
   ]
  },
  {
   "cell_type": "code",
   "execution_count": 115,
   "id": "0fd50ce1",
   "metadata": {},
   "outputs": [
    {
     "data": {
      "text/html": [
       "<div>\n",
       "<style scoped>\n",
       "    .dataframe tbody tr th:only-of-type {\n",
       "        vertical-align: middle;\n",
       "    }\n",
       "\n",
       "    .dataframe tbody tr th {\n",
       "        vertical-align: top;\n",
       "    }\n",
       "\n",
       "    .dataframe thead th {\n",
       "        text-align: right;\n",
       "    }\n",
       "</style>\n",
       "<table border=\"1\" class=\"dataframe\">\n",
       "  <thead>\n",
       "    <tr style=\"text-align: right;\">\n",
       "      <th></th>\n",
       "      <th>nifa</th>\n",
       "      <th>net_tfa</th>\n",
       "      <th>tw</th>\n",
       "      <th>age</th>\n",
       "      <th>inc</th>\n",
       "      <th>fsize</th>\n",
       "      <th>educ</th>\n",
       "      <th>db</th>\n",
       "      <th>marr</th>\n",
       "      <th>twoearn</th>\n",
       "      <th>e401</th>\n",
       "      <th>p401</th>\n",
       "      <th>pira</th>\n",
       "      <th>hown</th>\n",
       "    </tr>\n",
       "  </thead>\n",
       "  <tbody>\n",
       "    <tr>\n",
       "      <th>0</th>\n",
       "      <td>0.0</td>\n",
       "      <td>0.0</td>\n",
       "      <td>4500.0</td>\n",
       "      <td>47</td>\n",
       "      <td>6765.0</td>\n",
       "      <td>2</td>\n",
       "      <td>8</td>\n",
       "      <td>0</td>\n",
       "      <td>0</td>\n",
       "      <td>0</td>\n",
       "      <td>0</td>\n",
       "      <td>0</td>\n",
       "      <td>0</td>\n",
       "      <td>1</td>\n",
       "    </tr>\n",
       "    <tr>\n",
       "      <th>1</th>\n",
       "      <td>6215.0</td>\n",
       "      <td>1015.0</td>\n",
       "      <td>22390.0</td>\n",
       "      <td>36</td>\n",
       "      <td>28452.0</td>\n",
       "      <td>1</td>\n",
       "      <td>16</td>\n",
       "      <td>0</td>\n",
       "      <td>0</td>\n",
       "      <td>0</td>\n",
       "      <td>0</td>\n",
       "      <td>0</td>\n",
       "      <td>0</td>\n",
       "      <td>1</td>\n",
       "    </tr>\n",
       "    <tr>\n",
       "      <th>2</th>\n",
       "      <td>0.0</td>\n",
       "      <td>-2000.0</td>\n",
       "      <td>-2000.0</td>\n",
       "      <td>37</td>\n",
       "      <td>3300.0</td>\n",
       "      <td>6</td>\n",
       "      <td>12</td>\n",
       "      <td>1</td>\n",
       "      <td>0</td>\n",
       "      <td>0</td>\n",
       "      <td>0</td>\n",
       "      <td>0</td>\n",
       "      <td>0</td>\n",
       "      <td>0</td>\n",
       "    </tr>\n",
       "    <tr>\n",
       "      <th>3</th>\n",
       "      <td>15000.0</td>\n",
       "      <td>15000.0</td>\n",
       "      <td>155000.0</td>\n",
       "      <td>58</td>\n",
       "      <td>52590.0</td>\n",
       "      <td>2</td>\n",
       "      <td>16</td>\n",
       "      <td>0</td>\n",
       "      <td>1</td>\n",
       "      <td>1</td>\n",
       "      <td>0</td>\n",
       "      <td>0</td>\n",
       "      <td>0</td>\n",
       "      <td>1</td>\n",
       "    </tr>\n",
       "    <tr>\n",
       "      <th>4</th>\n",
       "      <td>0.0</td>\n",
       "      <td>0.0</td>\n",
       "      <td>58000.0</td>\n",
       "      <td>32</td>\n",
       "      <td>21804.0</td>\n",
       "      <td>1</td>\n",
       "      <td>11</td>\n",
       "      <td>0</td>\n",
       "      <td>0</td>\n",
       "      <td>0</td>\n",
       "      <td>0</td>\n",
       "      <td>0</td>\n",
       "      <td>0</td>\n",
       "      <td>1</td>\n",
       "    </tr>\n",
       "    <tr>\n",
       "      <th>...</th>\n",
       "      <td>...</td>\n",
       "      <td>...</td>\n",
       "      <td>...</td>\n",
       "      <td>...</td>\n",
       "      <td>...</td>\n",
       "      <td>...</td>\n",
       "      <td>...</td>\n",
       "      <td>...</td>\n",
       "      <td>...</td>\n",
       "      <td>...</td>\n",
       "      <td>...</td>\n",
       "      <td>...</td>\n",
       "      <td>...</td>\n",
       "      <td>...</td>\n",
       "    </tr>\n",
       "    <tr>\n",
       "      <th>9910</th>\n",
       "      <td>98498.0</td>\n",
       "      <td>98858.0</td>\n",
       "      <td>157858.0</td>\n",
       "      <td>52</td>\n",
       "      <td>73920.0</td>\n",
       "      <td>1</td>\n",
       "      <td>16</td>\n",
       "      <td>1</td>\n",
       "      <td>0</td>\n",
       "      <td>0</td>\n",
       "      <td>1</td>\n",
       "      <td>1</td>\n",
       "      <td>0</td>\n",
       "      <td>1</td>\n",
       "    </tr>\n",
       "    <tr>\n",
       "      <th>9911</th>\n",
       "      <td>287.0</td>\n",
       "      <td>6230.0</td>\n",
       "      <td>15730.0</td>\n",
       "      <td>41</td>\n",
       "      <td>42927.0</td>\n",
       "      <td>4</td>\n",
       "      <td>14</td>\n",
       "      <td>0</td>\n",
       "      <td>1</td>\n",
       "      <td>1</td>\n",
       "      <td>1</td>\n",
       "      <td>1</td>\n",
       "      <td>1</td>\n",
       "      <td>1</td>\n",
       "    </tr>\n",
       "    <tr>\n",
       "      <th>9912</th>\n",
       "      <td>99.0</td>\n",
       "      <td>6099.0</td>\n",
       "      <td>7406.0</td>\n",
       "      <td>40</td>\n",
       "      <td>23619.0</td>\n",
       "      <td>2</td>\n",
       "      <td>16</td>\n",
       "      <td>1</td>\n",
       "      <td>0</td>\n",
       "      <td>0</td>\n",
       "      <td>1</td>\n",
       "      <td>0</td>\n",
       "      <td>1</td>\n",
       "      <td>0</td>\n",
       "    </tr>\n",
       "    <tr>\n",
       "      <th>9913</th>\n",
       "      <td>0.0</td>\n",
       "      <td>-32.0</td>\n",
       "      <td>2468.0</td>\n",
       "      <td>47</td>\n",
       "      <td>14280.0</td>\n",
       "      <td>4</td>\n",
       "      <td>6</td>\n",
       "      <td>1</td>\n",
       "      <td>0</td>\n",
       "      <td>0</td>\n",
       "      <td>1</td>\n",
       "      <td>1</td>\n",
       "      <td>0</td>\n",
       "      <td>0</td>\n",
       "    </tr>\n",
       "    <tr>\n",
       "      <th>9914</th>\n",
       "      <td>4000.0</td>\n",
       "      <td>5000.0</td>\n",
       "      <td>8857.0</td>\n",
       "      <td>33</td>\n",
       "      <td>11112.0</td>\n",
       "      <td>1</td>\n",
       "      <td>14</td>\n",
       "      <td>0</td>\n",
       "      <td>0</td>\n",
       "      <td>0</td>\n",
       "      <td>1</td>\n",
       "      <td>1</td>\n",
       "      <td>0</td>\n",
       "      <td>0</td>\n",
       "    </tr>\n",
       "  </tbody>\n",
       "</table>\n",
       "<p>9915 rows × 14 columns</p>\n",
       "</div>"
      ],
      "text/plain": [
       "         nifa  net_tfa        tw  age      inc  fsize  educ  db  marr  \\\n",
       "0         0.0      0.0    4500.0   47   6765.0      2     8   0     0   \n",
       "1      6215.0   1015.0   22390.0   36  28452.0      1    16   0     0   \n",
       "2         0.0  -2000.0   -2000.0   37   3300.0      6    12   1     0   \n",
       "3     15000.0  15000.0  155000.0   58  52590.0      2    16   0     1   \n",
       "4         0.0      0.0   58000.0   32  21804.0      1    11   0     0   \n",
       "...       ...      ...       ...  ...      ...    ...   ...  ..   ...   \n",
       "9910  98498.0  98858.0  157858.0   52  73920.0      1    16   1     0   \n",
       "9911    287.0   6230.0   15730.0   41  42927.0      4    14   0     1   \n",
       "9912     99.0   6099.0    7406.0   40  23619.0      2    16   1     0   \n",
       "9913      0.0    -32.0    2468.0   47  14280.0      4     6   1     0   \n",
       "9914   4000.0   5000.0    8857.0   33  11112.0      1    14   0     0   \n",
       "\n",
       "      twoearn  e401  p401  pira  hown  \n",
       "0           0     0     0     0     1  \n",
       "1           0     0     0     0     1  \n",
       "2           0     0     0     0     0  \n",
       "3           1     0     0     0     1  \n",
       "4           0     0     0     0     1  \n",
       "...       ...   ...   ...   ...   ...  \n",
       "9910        0     1     1     0     1  \n",
       "9911        1     1     1     1     1  \n",
       "9912        0     1     0     1     0  \n",
       "9913        0     1     1     0     0  \n",
       "9914        0     1     1     0     0  \n",
       "\n",
       "[9915 rows x 14 columns]"
      ]
     },
     "execution_count": 115,
     "metadata": {},
     "output_type": "execute_result"
    }
   ],
   "source": [
    "#code\n",
    "data = fetch_401K(return_type='DataFrame')\n",
    "data"
   ]
  },
  {
   "cell_type": "code",
   "execution_count": 116,
   "id": "4cd0ec99",
   "metadata": {},
   "outputs": [],
   "source": [
    "# Split the dataset into D1 and D2. Make sure there is similar proportion of treated (e401=1) in both groups.\n",
    "D1 = data.groupby('e401', group_keys=False).apply(lambda x: x.sample(frac=0.5))\n",
    "D2 = data.copy().drop(D1.index, axis=0)\n",
    "D1.reset_index(inplace = True)\n",
    "D2.reset_index(inplace = True)"
   ]
  },
  {
   "cell_type": "code",
   "execution_count": 117,
   "id": "3e710f49",
   "metadata": {},
   "outputs": [
    {
     "name": "stdout",
     "output_type": "stream",
     "text": [
      "1841\n",
      "1841\n"
     ]
    }
   ],
   "source": [
    "#Checking that teh 2 dataframes have same e401=1\n",
    "count_e401_1 = (D1['e401'] == 1).sum()\n",
    "print(count_e401_1)\n",
    "count_e401_1 = (D2['e401'] == 1).sum()\n",
    "print(count_e401_1)"
   ]
  },
  {
   "cell_type": "code",
   "execution_count": 118,
   "id": "e1e32b9f",
   "metadata": {},
   "outputs": [],
   "source": [
    "#2) Start with D1. Split D1 into two: D1_1 with e401 = 1, D1_0 with e401 = 0\n",
    "D1_0 = D1[D1['e401'] == 0]\n",
    "D1_1 = D1[D1['e401'] == 1]"
   ]
  },
  {
   "cell_type": "code",
   "execution_count": 146,
   "metadata": {},
   "outputs": [
    {
     "data": {
      "text/plain": [
       "10399.678"
      ]
     },
     "execution_count": 146,
     "metadata": {},
     "output_type": "execute_result"
    }
   ],
   "source": [
    "mean_tfa_e401_1 = D1_0['net_tfa'].mean()\n",
    "mean_tfa_e401_1\n"
   ]
  },
  {
   "cell_type": "code",
   "execution_count": 150,
   "id": "b4865812",
   "metadata": {},
   "outputs": [
    {
     "data": {
      "text/plain": [
       "10399.678"
      ]
     },
     "execution_count": 150,
     "metadata": {},
     "output_type": "execute_result"
    }
   ],
   "source": [
    "D1_0_y.mean()"
   ]
  },
  {
   "cell_type": "code",
   "execution_count": 119,
   "id": "8782f33f",
   "metadata": {},
   "outputs": [
    {
     "data": {
      "text/html": [
       "<style>#sk-container-id-6 {color: black;background-color: white;}#sk-container-id-6 pre{padding: 0;}#sk-container-id-6 div.sk-toggleable {background-color: white;}#sk-container-id-6 label.sk-toggleable__label {cursor: pointer;display: block;width: 100%;margin-bottom: 0;padding: 0.3em;box-sizing: border-box;text-align: center;}#sk-container-id-6 label.sk-toggleable__label-arrow:before {content: \"▸\";float: left;margin-right: 0.25em;color: #696969;}#sk-container-id-6 label.sk-toggleable__label-arrow:hover:before {color: black;}#sk-container-id-6 div.sk-estimator:hover label.sk-toggleable__label-arrow:before {color: black;}#sk-container-id-6 div.sk-toggleable__content {max-height: 0;max-width: 0;overflow: hidden;text-align: left;background-color: #f0f8ff;}#sk-container-id-6 div.sk-toggleable__content pre {margin: 0.2em;color: black;border-radius: 0.25em;background-color: #f0f8ff;}#sk-container-id-6 input.sk-toggleable__control:checked~div.sk-toggleable__content {max-height: 200px;max-width: 100%;overflow: auto;}#sk-container-id-6 input.sk-toggleable__control:checked~label.sk-toggleable__label-arrow:before {content: \"▾\";}#sk-container-id-6 div.sk-estimator input.sk-toggleable__control:checked~label.sk-toggleable__label {background-color: #d4ebff;}#sk-container-id-6 div.sk-label input.sk-toggleable__control:checked~label.sk-toggleable__label {background-color: #d4ebff;}#sk-container-id-6 input.sk-hidden--visually {border: 0;clip: rect(1px 1px 1px 1px);clip: rect(1px, 1px, 1px, 1px);height: 1px;margin: -1px;overflow: hidden;padding: 0;position: absolute;width: 1px;}#sk-container-id-6 div.sk-estimator {font-family: monospace;background-color: #f0f8ff;border: 1px dotted black;border-radius: 0.25em;box-sizing: border-box;margin-bottom: 0.5em;}#sk-container-id-6 div.sk-estimator:hover {background-color: #d4ebff;}#sk-container-id-6 div.sk-parallel-item::after {content: \"\";width: 100%;border-bottom: 1px solid gray;flex-grow: 1;}#sk-container-id-6 div.sk-label:hover label.sk-toggleable__label {background-color: #d4ebff;}#sk-container-id-6 div.sk-serial::before {content: \"\";position: absolute;border-left: 1px solid gray;box-sizing: border-box;top: 0;bottom: 0;left: 50%;z-index: 0;}#sk-container-id-6 div.sk-serial {display: flex;flex-direction: column;align-items: center;background-color: white;padding-right: 0.2em;padding-left: 0.2em;position: relative;}#sk-container-id-6 div.sk-item {position: relative;z-index: 1;}#sk-container-id-6 div.sk-parallel {display: flex;align-items: stretch;justify-content: center;background-color: white;position: relative;}#sk-container-id-6 div.sk-item::before, #sk-container-id-6 div.sk-parallel-item::before {content: \"\";position: absolute;border-left: 1px solid gray;box-sizing: border-box;top: 0;bottom: 0;left: 50%;z-index: -1;}#sk-container-id-6 div.sk-parallel-item {display: flex;flex-direction: column;z-index: 1;position: relative;background-color: white;}#sk-container-id-6 div.sk-parallel-item:first-child::after {align-self: flex-end;width: 50%;}#sk-container-id-6 div.sk-parallel-item:last-child::after {align-self: flex-start;width: 50%;}#sk-container-id-6 div.sk-parallel-item:only-child::after {width: 0;}#sk-container-id-6 div.sk-dashed-wrapped {border: 1px dashed gray;margin: 0 0.4em 0.5em 0.4em;box-sizing: border-box;padding-bottom: 0.4em;background-color: white;}#sk-container-id-6 div.sk-label label {font-family: monospace;font-weight: bold;display: inline-block;line-height: 1.2em;}#sk-container-id-6 div.sk-label-container {text-align: center;}#sk-container-id-6 div.sk-container {/* jupyter's `normalize.less` sets `[hidden] { display: none; }` but bootstrap.min.css set `[hidden] { display: none !important; }` so we also need the `!important` here to be able to override the default hidden behavior on the sphinx rendered scikit-learn.org. See: https://github.com/scikit-learn/scikit-learn/issues/21755 */display: inline-block !important;position: relative;}#sk-container-id-6 div.sk-text-repr-fallback {display: none;}</style><div id=\"sk-container-id-6\" class=\"sk-top-container\"><div class=\"sk-text-repr-fallback\"><pre>GridSearchCV(cv=5,\n",
       "             estimator=RandomForestRegressor(max_depth=7, max_features=3,\n",
       "                                             min_samples_leaf=3,\n",
       "                                             n_estimators=500),\n",
       "             param_grid={&#x27;min_samples_leaf&#x27;: [5, 7, 8, 9, 10, 11, 12, 13, 14,\n",
       "                                              15],\n",
       "                         &#x27;n_estimators&#x27;: [50, 60, 70, 80, 90, 100, 110, 120,\n",
       "                                          130]},\n",
       "             scoring=&#x27;r2&#x27;)</pre><b>In a Jupyter environment, please rerun this cell to show the HTML representation or trust the notebook. <br />On GitHub, the HTML representation is unable to render, please try loading this page with nbviewer.org.</b></div><div class=\"sk-container\" hidden><div class=\"sk-item sk-dashed-wrapped\"><div class=\"sk-label-container\"><div class=\"sk-label sk-toggleable\"><input class=\"sk-toggleable__control sk-hidden--visually\" id=\"sk-estimator-id-16\" type=\"checkbox\" ><label for=\"sk-estimator-id-16\" class=\"sk-toggleable__label sk-toggleable__label-arrow\">GridSearchCV</label><div class=\"sk-toggleable__content\"><pre>GridSearchCV(cv=5,\n",
       "             estimator=RandomForestRegressor(max_depth=7, max_features=3,\n",
       "                                             min_samples_leaf=3,\n",
       "                                             n_estimators=500),\n",
       "             param_grid={&#x27;min_samples_leaf&#x27;: [5, 7, 8, 9, 10, 11, 12, 13, 14,\n",
       "                                              15],\n",
       "                         &#x27;n_estimators&#x27;: [50, 60, 70, 80, 90, 100, 110, 120,\n",
       "                                          130]},\n",
       "             scoring=&#x27;r2&#x27;)</pre></div></div></div><div class=\"sk-parallel\"><div class=\"sk-parallel-item\"><div class=\"sk-item\"><div class=\"sk-label-container\"><div class=\"sk-label sk-toggleable\"><input class=\"sk-toggleable__control sk-hidden--visually\" id=\"sk-estimator-id-17\" type=\"checkbox\" ><label for=\"sk-estimator-id-17\" class=\"sk-toggleable__label sk-toggleable__label-arrow\">estimator: RandomForestRegressor</label><div class=\"sk-toggleable__content\"><pre>RandomForestRegressor(max_depth=7, max_features=3, min_samples_leaf=3,\n",
       "                      n_estimators=500)</pre></div></div></div><div class=\"sk-serial\"><div class=\"sk-item\"><div class=\"sk-estimator sk-toggleable\"><input class=\"sk-toggleable__control sk-hidden--visually\" id=\"sk-estimator-id-18\" type=\"checkbox\" ><label for=\"sk-estimator-id-18\" class=\"sk-toggleable__label sk-toggleable__label-arrow\">RandomForestRegressor</label><div class=\"sk-toggleable__content\"><pre>RandomForestRegressor(max_depth=7, max_features=3, min_samples_leaf=3,\n",
       "                      n_estimators=500)</pre></div></div></div></div></div></div></div></div></div></div>"
      ],
      "text/plain": [
       "GridSearchCV(cv=5,\n",
       "             estimator=RandomForestRegressor(max_depth=7, max_features=3,\n",
       "                                             min_samples_leaf=3,\n",
       "                                             n_estimators=500),\n",
       "             param_grid={'min_samples_leaf': [5, 7, 8, 9, 10, 11, 12, 13, 14,\n",
       "                                              15],\n",
       "                         'n_estimators': [50, 60, 70, 80, 90, 100, 110, 120,\n",
       "                                          130]},\n",
       "             scoring='r2')"
      ]
     },
     "execution_count": 119,
     "metadata": {},
     "output_type": "execute_result"
    }
   ],
   "source": [
    "#3) Train two models, one for D1_1, and another for D1_0, f1 and f0, respectively \n",
    "\n",
    "## Data Prep\n",
    "\n",
    "## make x and y\n",
    "D1_0_X = D1_0.loc[:, D1_0.columns != 'net_tfa']\n",
    "D1_1_X = D1_1.loc[:, D1_1.columns != 'net_tfa']\n",
    "\n",
    "D1_0_y = D1_0['net_tfa']\n",
    "D1_1_y = D1_1['net_tfa']\n",
    "\n",
    "## split into train and test sets\n",
    "\n",
    "D1_0_X_train, D1_0_X_test, D1_0_y_train, D1_0_y_test = train_test_split(D1_0_X, D1_0_y)\n",
    "\n",
    "D1_1_X_train, D1_1_X_test, D1_1_y_train, D1_1_y_test = train_test_split(D1_1_X, D1_1_y)\n",
    "\n",
    "\n",
    "## scale data\n",
    "\n",
    "scaler_D1_0 = StandardScaler()\n",
    "scaler_D1_0.fit(D1_0_X_train)\n",
    "D1_0_X_train_scl = scaler_D1_0.transform(D1_0_X_train)\n",
    "D1_0_X_test_scl = scaler_D1_0.transform(D1_0_X_test)\n",
    "\n",
    "scaler_D1_1 = StandardScaler()\n",
    "scaler_D1_1.fit(D1_0_X_train)\n",
    "D1_1_X_train_scl = scaler_D1_1.transform(D1_1_X_train)\n",
    "D1_1_X_test_scl = scaler_D1_1.transform(D1_1_X_test)\n",
    "\n",
    "\n",
    "RF_param_grid = {\n",
    "    'n_estimators':[50, 60, 70, 80, 90, 100, 110, 120, 130],\n",
    "    'min_samples_leaf':[5, 7, 8, 9, 10, 11, 12, 13, 14, 15],\n",
    "}\n",
    "\n",
    "#f0\n",
    "RF_f0 = RandomForestRegressor(\n",
    "    n_estimators=500, max_depth=7, max_features=3, min_samples_leaf=3)\n",
    "\n",
    "RF_f0_gmodel = GridSearchCV(RF_f0, param_grid=RF_param_grid, scoring='r2', cv=5)\n",
    "\n",
    "\n",
    "RF_f0_gmodel.fit(D1_0_X_train_scl, D1_0_y_train)\n",
    "\n",
    "\n",
    "#f1\n",
    "RF_f1 = RandomForestRegressor(\n",
    "    n_estimators=500, max_depth=7, max_features=3, min_samples_leaf=3)\n",
    "\n",
    "RF_f1_gmodel = GridSearchCV(RF_f1, param_grid=RF_param_grid, scoring='r2', cv=5)\n",
    "\n",
    "RF_f1_gmodel.fit(D1_1_X_train_scl, D1_1_y_train)"
   ]
  },
  {
   "cell_type": "code",
   "execution_count": 147,
   "id": "3de78758",
   "metadata": {},
   "outputs": [],
   "source": [
    "D2['RF_f1_gmodel_pred'] = RF_f1_gmodel.predict(D2.drop('net_tfa', axis=1))"
   ]
  },
  {
   "cell_type": "code",
   "execution_count": 148,
   "id": "b9ee4f69",
   "metadata": {},
   "outputs": [
    {
     "data": {
      "text/html": [
       "<div>\n",
       "<style scoped>\n",
       "    .dataframe tbody tr th:only-of-type {\n",
       "        vertical-align: middle;\n",
       "    }\n",
       "\n",
       "    .dataframe tbody tr th {\n",
       "        vertical-align: top;\n",
       "    }\n",
       "\n",
       "    .dataframe thead th {\n",
       "        text-align: right;\n",
       "    }\n",
       "</style>\n",
       "<table border=\"1\" class=\"dataframe\">\n",
       "  <thead>\n",
       "    <tr style=\"text-align: right;\">\n",
       "      <th></th>\n",
       "      <th>index</th>\n",
       "      <th>nifa</th>\n",
       "      <th>net_tfa</th>\n",
       "      <th>tw</th>\n",
       "      <th>age</th>\n",
       "      <th>inc</th>\n",
       "      <th>fsize</th>\n",
       "      <th>educ</th>\n",
       "      <th>db</th>\n",
       "      <th>marr</th>\n",
       "      <th>twoearn</th>\n",
       "      <th>e401</th>\n",
       "      <th>p401</th>\n",
       "      <th>pira</th>\n",
       "      <th>hown</th>\n",
       "      <th>RF_f1_gmodel_pred</th>\n",
       "    </tr>\n",
       "  </thead>\n",
       "  <tbody>\n",
       "    <tr>\n",
       "      <th>0</th>\n",
       "      <td>1</td>\n",
       "      <td>6215.0</td>\n",
       "      <td>1015.0</td>\n",
       "      <td>22390.0</td>\n",
       "      <td>36</td>\n",
       "      <td>28452.0</td>\n",
       "      <td>1</td>\n",
       "      <td>16</td>\n",
       "      <td>0</td>\n",
       "      <td>0</td>\n",
       "      <td>0</td>\n",
       "      <td>0</td>\n",
       "      <td>0</td>\n",
       "      <td>0</td>\n",
       "      <td>1</td>\n",
       "      <td>3591.122347</td>\n",
       "    </tr>\n",
       "    <tr>\n",
       "      <th>1</th>\n",
       "      <td>2</td>\n",
       "      <td>0.0</td>\n",
       "      <td>-2000.0</td>\n",
       "      <td>-2000.0</td>\n",
       "      <td>37</td>\n",
       "      <td>3300.0</td>\n",
       "      <td>6</td>\n",
       "      <td>12</td>\n",
       "      <td>1</td>\n",
       "      <td>0</td>\n",
       "      <td>0</td>\n",
       "      <td>0</td>\n",
       "      <td>0</td>\n",
       "      <td>0</td>\n",
       "      <td>0</td>\n",
       "      <td>-540.126684</td>\n",
       "    </tr>\n",
       "    <tr>\n",
       "      <th>2</th>\n",
       "      <td>4</td>\n",
       "      <td>0.0</td>\n",
       "      <td>0.0</td>\n",
       "      <td>58000.0</td>\n",
       "      <td>32</td>\n",
       "      <td>21804.0</td>\n",
       "      <td>1</td>\n",
       "      <td>11</td>\n",
       "      <td>0</td>\n",
       "      <td>0</td>\n",
       "      <td>0</td>\n",
       "      <td>0</td>\n",
       "      <td>0</td>\n",
       "      <td>0</td>\n",
       "      <td>1</td>\n",
       "      <td>1530.121057</td>\n",
       "    </tr>\n",
       "    <tr>\n",
       "      <th>3</th>\n",
       "      <td>5</td>\n",
       "      <td>13000.0</td>\n",
       "      <td>27800.0</td>\n",
       "      <td>66643.0</td>\n",
       "      <td>34</td>\n",
       "      <td>34680.0</td>\n",
       "      <td>1</td>\n",
       "      <td>16</td>\n",
       "      <td>0</td>\n",
       "      <td>0</td>\n",
       "      <td>0</td>\n",
       "      <td>0</td>\n",
       "      <td>0</td>\n",
       "      <td>1</td>\n",
       "      <td>1</td>\n",
       "      <td>24837.863520</td>\n",
       "    </tr>\n",
       "    <tr>\n",
       "      <th>4</th>\n",
       "      <td>8</td>\n",
       "      <td>25299.0</td>\n",
       "      <td>37279.0</td>\n",
       "      <td>111363.0</td>\n",
       "      <td>43</td>\n",
       "      <td>65820.0</td>\n",
       "      <td>2</td>\n",
       "      <td>14</td>\n",
       "      <td>1</td>\n",
       "      <td>1</td>\n",
       "      <td>1</td>\n",
       "      <td>0</td>\n",
       "      <td>0</td>\n",
       "      <td>1</td>\n",
       "      <td>1</td>\n",
       "      <td>35487.405793</td>\n",
       "    </tr>\n",
       "    <tr>\n",
       "      <th>...</th>\n",
       "      <td>...</td>\n",
       "      <td>...</td>\n",
       "      <td>...</td>\n",
       "      <td>...</td>\n",
       "      <td>...</td>\n",
       "      <td>...</td>\n",
       "      <td>...</td>\n",
       "      <td>...</td>\n",
       "      <td>...</td>\n",
       "      <td>...</td>\n",
       "      <td>...</td>\n",
       "      <td>...</td>\n",
       "      <td>...</td>\n",
       "      <td>...</td>\n",
       "      <td>...</td>\n",
       "      <td>...</td>\n",
       "    </tr>\n",
       "    <tr>\n",
       "      <th>4953</th>\n",
       "      <td>9902</td>\n",
       "      <td>3400.0</td>\n",
       "      <td>8400.0</td>\n",
       "      <td>152400.0</td>\n",
       "      <td>39</td>\n",
       "      <td>61377.0</td>\n",
       "      <td>5</td>\n",
       "      <td>13</td>\n",
       "      <td>0</td>\n",
       "      <td>1</td>\n",
       "      <td>1</td>\n",
       "      <td>1</td>\n",
       "      <td>1</td>\n",
       "      <td>0</td>\n",
       "      <td>0</td>\n",
       "      <td>22699.289507</td>\n",
       "    </tr>\n",
       "    <tr>\n",
       "      <th>4954</th>\n",
       "      <td>9905</td>\n",
       "      <td>14025.0</td>\n",
       "      <td>53525.0</td>\n",
       "      <td>293393.0</td>\n",
       "      <td>55</td>\n",
       "      <td>50163.0</td>\n",
       "      <td>3</td>\n",
       "      <td>12</td>\n",
       "      <td>1</td>\n",
       "      <td>0</td>\n",
       "      <td>0</td>\n",
       "      <td>1</td>\n",
       "      <td>1</td>\n",
       "      <td>0</td>\n",
       "      <td>1</td>\n",
       "      <td>50124.133402</td>\n",
       "    </tr>\n",
       "    <tr>\n",
       "      <th>4955</th>\n",
       "      <td>9906</td>\n",
       "      <td>3000.0</td>\n",
       "      <td>-2000.0</td>\n",
       "      <td>33242.0</td>\n",
       "      <td>38</td>\n",
       "      <td>60.0</td>\n",
       "      <td>2</td>\n",
       "      <td>12</td>\n",
       "      <td>0</td>\n",
       "      <td>0</td>\n",
       "      <td>0</td>\n",
       "      <td>1</td>\n",
       "      <td>0</td>\n",
       "      <td>0</td>\n",
       "      <td>1</td>\n",
       "      <td>1960.203885</td>\n",
       "    </tr>\n",
       "    <tr>\n",
       "      <th>4956</th>\n",
       "      <td>9911</td>\n",
       "      <td>287.0</td>\n",
       "      <td>6230.0</td>\n",
       "      <td>15730.0</td>\n",
       "      <td>41</td>\n",
       "      <td>42927.0</td>\n",
       "      <td>4</td>\n",
       "      <td>14</td>\n",
       "      <td>0</td>\n",
       "      <td>1</td>\n",
       "      <td>1</td>\n",
       "      <td>1</td>\n",
       "      <td>1</td>\n",
       "      <td>1</td>\n",
       "      <td>1</td>\n",
       "      <td>18400.187808</td>\n",
       "    </tr>\n",
       "    <tr>\n",
       "      <th>4957</th>\n",
       "      <td>9912</td>\n",
       "      <td>99.0</td>\n",
       "      <td>6099.0</td>\n",
       "      <td>7406.0</td>\n",
       "      <td>40</td>\n",
       "      <td>23619.0</td>\n",
       "      <td>2</td>\n",
       "      <td>16</td>\n",
       "      <td>1</td>\n",
       "      <td>0</td>\n",
       "      <td>0</td>\n",
       "      <td>1</td>\n",
       "      <td>0</td>\n",
       "      <td>1</td>\n",
       "      <td>0</td>\n",
       "      <td>10106.282053</td>\n",
       "    </tr>\n",
       "  </tbody>\n",
       "</table>\n",
       "<p>4958 rows × 16 columns</p>\n",
       "</div>"
      ],
      "text/plain": [
       "      index     nifa  net_tfa        tw  age      inc  fsize  educ  db  marr  \\\n",
       "0         1   6215.0   1015.0   22390.0   36  28452.0      1    16   0     0   \n",
       "1         2      0.0  -2000.0   -2000.0   37   3300.0      6    12   1     0   \n",
       "2         4      0.0      0.0   58000.0   32  21804.0      1    11   0     0   \n",
       "3         5  13000.0  27800.0   66643.0   34  34680.0      1    16   0     0   \n",
       "4         8  25299.0  37279.0  111363.0   43  65820.0      2    14   1     1   \n",
       "...     ...      ...      ...       ...  ...      ...    ...   ...  ..   ...   \n",
       "4953   9902   3400.0   8400.0  152400.0   39  61377.0      5    13   0     1   \n",
       "4954   9905  14025.0  53525.0  293393.0   55  50163.0      3    12   1     0   \n",
       "4955   9906   3000.0  -2000.0   33242.0   38     60.0      2    12   0     0   \n",
       "4956   9911    287.0   6230.0   15730.0   41  42927.0      4    14   0     1   \n",
       "4957   9912     99.0   6099.0    7406.0   40  23619.0      2    16   1     0   \n",
       "\n",
       "      twoearn  e401  p401  pira  hown  RF_f1_gmodel_pred  \n",
       "0           0     0     0     0     1        3591.122347  \n",
       "1           0     0     0     0     0        -540.126684  \n",
       "2           0     0     0     0     1        1530.121057  \n",
       "3           0     0     0     1     1       24837.863520  \n",
       "4           1     0     0     1     1       35487.405793  \n",
       "...       ...   ...   ...   ...   ...                ...  \n",
       "4953        1     1     1     0     0       22699.289507  \n",
       "4954        0     1     1     0     1       50124.133402  \n",
       "4955        0     1     0     0     1        1960.203885  \n",
       "4956        1     1     1     1     1       18400.187808  \n",
       "4957        0     1     0     1     0       10106.282053  \n",
       "\n",
       "[4958 rows x 16 columns]"
      ]
     },
     "execution_count": 148,
     "metadata": {},
     "output_type": "execute_result"
    }
   ],
   "source": [
    "D2"
   ]
  },
  {
   "cell_type": "code",
   "execution_count": 149,
   "id": "b3fd9177",
   "metadata": {},
   "outputs": [
    {
     "data": {
      "image/png": "[encoded data removed]",
      "text/plain": [
       "<Figure size 800x800 with 3 Axes>"
      ]
     },
     "metadata": {},
     "output_type": "display_data"
    }
   ],
   "source": [
    "import matplotlib.pyplot as plt\n",
    "\n",
    "# Create a figure with three subplots\n",
    "fig, (ax1, ax2, ax3) = plt.subplots(3, 1, sharex=True, figsize=(8, 8))\n",
    "\n",
    "# Plot the RF_f1_gmodel_pred column\n",
    "ax1.plot(D2.index, D2['RF_f1_gmodel_pred'], label='RF_f1_gmodel_pred')\n",
    "ax1.set_ylabel('RF_f1_gmodel_pred')\n",
    "\n",
    "# Plot the net_tfa column\n",
    "ax2.plot(D2.index, D2['net_tfa'], label='net_tfa')\n",
    "ax2.set_ylabel('net_tfa')\n",
    "\n",
    "# Plot the difference between the two columns\n",
    "ax3.plot(D2.index, D2['RF_f1_gmodel_pred'] - D2['net_tfa'], label='Difference')\n",
    "ax3.set_ylabel('Difference')\n",
    "ax3.set_xlabel('Row number')\n",
    "\n",
    "# Add a legend to the plot\n",
    "fig.legend()\n",
    "\n",
    "# Show the plot\n",
    "plt.show()"
   ]
  },
  {
   "cell_type": "code",
   "execution_count": 151,
   "id": "cff681dc",
   "metadata": {},
   "outputs": [
    {
     "ename": "ValueError",
     "evalue": "The feature names should match those that were passed during fit.\nFeature names unseen at fit time:\n- RF_f1_gmodel_pred\n",
     "output_type": "error",
     "traceback": [
      "\u001b[1;31m---------------------------------------------------------------------------\u001b[0m",
      "\u001b[1;31mValueError\u001b[0m                                Traceback (most recent call last)",
      "Cell \u001b[1;32mIn[151], line 5\u001b[0m\n\u001b[0;32m      1\u001b[0m \u001b[39m## 4) Make predictions on the complementary dataset D2, and calculate the ATE_2 as the average of f1(D2) - f0(D2)\u001b[39;00m\n\u001b[0;32m      2\u001b[0m \u001b[39m# Predict the outcome using the f1_1 and f1_0 models, respectively. \u001b[39;00m\n\u001b[0;32m      3\u001b[0m \u001b[39m# Then it computes the ATE by taking the difference of the mean predicted outcomes between the two groups. \u001b[39;00m\n\u001b[0;32m      4\u001b[0m \u001b[39m# define predictor functions\u001b[39;00m\n\u001b[1;32m----> 5\u001b[0m ATE_2 \u001b[39m=\u001b[39m np\u001b[39m.\u001b[39mmean(RF_f1_gmodel\u001b[39m.\u001b[39;49mpredict(D2\u001b[39m.\u001b[39;49mdrop(\u001b[39m'\u001b[39;49m\u001b[39mnet_tfa\u001b[39;49m\u001b[39m'\u001b[39;49m, axis\u001b[39m=\u001b[39;49m\u001b[39m1\u001b[39;49m))) \u001b[39m-\u001b[39m np\u001b[39m.\u001b[39mmean(RF_f0_gmodel\u001b[39m.\u001b[39mpredict(D2\u001b[39m.\u001b[39mdrop(\u001b[39m'\u001b[39m\u001b[39mnet_tfa\u001b[39m\u001b[39m'\u001b[39m, axis\u001b[39m=\u001b[39m\u001b[39m1\u001b[39m)))\n\u001b[0;32m      7\u001b[0m ATE_2\n",
      "File \u001b[1;32mc:\\Users\\no_mi\\AppData\\Local\\Programs\\Python\\Python311\\Lib\\site-packages\\sklearn\\model_selection\\_search.py:499\u001b[0m, in \u001b[0;36mBaseSearchCV.predict\u001b[1;34m(self, X)\u001b[0m\n\u001b[0;32m    481\u001b[0m \u001b[39m\u001b[39m\u001b[39m\"\"\"Call predict on the estimator with the best found parameters.\u001b[39;00m\n\u001b[0;32m    482\u001b[0m \n\u001b[0;32m    483\u001b[0m \u001b[39mOnly available if ``refit=True`` and the underlying estimator supports\u001b[39;00m\n\u001b[1;32m   (...)\u001b[0m\n\u001b[0;32m    496\u001b[0m \u001b[39m    the best found parameters.\u001b[39;00m\n\u001b[0;32m    497\u001b[0m \u001b[39m\"\"\"\u001b[39;00m\n\u001b[0;32m    498\u001b[0m check_is_fitted(\u001b[39mself\u001b[39m)\n\u001b[1;32m--> 499\u001b[0m \u001b[39mreturn\u001b[39;00m \u001b[39mself\u001b[39;49m\u001b[39m.\u001b[39;49mbest_estimator_\u001b[39m.\u001b[39;49mpredict(X)\n",
      "File \u001b[1;32mc:\\Users\\no_mi\\AppData\\Local\\Programs\\Python\\Python311\\Lib\\site-packages\\sklearn\\ensemble\\_forest.py:981\u001b[0m, in \u001b[0;36mForestRegressor.predict\u001b[1;34m(self, X)\u001b[0m\n\u001b[0;32m    979\u001b[0m check_is_fitted(\u001b[39mself\u001b[39m)\n\u001b[0;32m    980\u001b[0m \u001b[39m# Check data\u001b[39;00m\n\u001b[1;32m--> 981\u001b[0m X \u001b[39m=\u001b[39m \u001b[39mself\u001b[39;49m\u001b[39m.\u001b[39;49m_validate_X_predict(X)\n\u001b[0;32m    983\u001b[0m \u001b[39m# Assign chunk of trees to jobs\u001b[39;00m\n\u001b[0;32m    984\u001b[0m n_jobs, _, _ \u001b[39m=\u001b[39m _partition_estimators(\u001b[39mself\u001b[39m\u001b[39m.\u001b[39mn_estimators, \u001b[39mself\u001b[39m\u001b[39m.\u001b[39mn_jobs)\n",
      "File \u001b[1;32mc:\\Users\\no_mi\\AppData\\Local\\Programs\\Python\\Python311\\Lib\\site-packages\\sklearn\\ensemble\\_forest.py:602\u001b[0m, in \u001b[0;36mBaseForest._validate_X_predict\u001b[1;34m(self, X)\u001b[0m\n\u001b[0;32m    599\u001b[0m \u001b[39m\u001b[39m\u001b[39m\"\"\"\u001b[39;00m\n\u001b[0;32m    600\u001b[0m \u001b[39mValidate X whenever one tries to predict, apply, predict_proba.\"\"\"\u001b[39;00m\n\u001b[0;32m    601\u001b[0m check_is_fitted(\u001b[39mself\u001b[39m)\n\u001b[1;32m--> 602\u001b[0m X \u001b[39m=\u001b[39m \u001b[39mself\u001b[39;49m\u001b[39m.\u001b[39;49m_validate_data(X, dtype\u001b[39m=\u001b[39;49mDTYPE, accept_sparse\u001b[39m=\u001b[39;49m\u001b[39m\"\u001b[39;49m\u001b[39mcsr\u001b[39;49m\u001b[39m\"\u001b[39;49m, reset\u001b[39m=\u001b[39;49m\u001b[39mFalse\u001b[39;49;00m)\n\u001b[0;32m    603\u001b[0m \u001b[39mif\u001b[39;00m issparse(X) \u001b[39mand\u001b[39;00m (X\u001b[39m.\u001b[39mindices\u001b[39m.\u001b[39mdtype \u001b[39m!=\u001b[39m np\u001b[39m.\u001b[39mintc \u001b[39mor\u001b[39;00m X\u001b[39m.\u001b[39mindptr\u001b[39m.\u001b[39mdtype \u001b[39m!=\u001b[39m np\u001b[39m.\u001b[39mintc):\n\u001b[0;32m    604\u001b[0m     \u001b[39mraise\u001b[39;00m \u001b[39mValueError\u001b[39;00m(\u001b[39m\"\u001b[39m\u001b[39mNo support for np.int64 index based sparse matrices\u001b[39m\u001b[39m\"\u001b[39m)\n",
      "File \u001b[1;32mc:\\Users\\no_mi\\AppData\\Local\\Programs\\Python\\Python311\\Lib\\site-packages\\sklearn\\base.py:529\u001b[0m, in \u001b[0;36mBaseEstimator._validate_data\u001b[1;34m(self, X, y, reset, validate_separately, **check_params)\u001b[0m\n\u001b[0;32m    464\u001b[0m \u001b[39mdef\u001b[39;00m \u001b[39m_validate_data\u001b[39m(\n\u001b[0;32m    465\u001b[0m     \u001b[39mself\u001b[39m,\n\u001b[0;32m    466\u001b[0m     X\u001b[39m=\u001b[39m\u001b[39m\"\u001b[39m\u001b[39mno_validation\u001b[39m\u001b[39m\"\u001b[39m,\n\u001b[1;32m   (...)\u001b[0m\n\u001b[0;32m    470\u001b[0m     \u001b[39m*\u001b[39m\u001b[39m*\u001b[39mcheck_params,\n\u001b[0;32m    471\u001b[0m ):\n\u001b[0;32m    472\u001b[0m \u001b[39m    \u001b[39m\u001b[39m\"\"\"Validate input data and set or check the `n_features_in_` attribute.\u001b[39;00m\n\u001b[0;32m    473\u001b[0m \n\u001b[0;32m    474\u001b[0m \u001b[39m    Parameters\u001b[39;00m\n\u001b[1;32m   (...)\u001b[0m\n\u001b[0;32m    527\u001b[0m \u001b[39m        validated.\u001b[39;00m\n\u001b[0;32m    528\u001b[0m \u001b[39m    \"\"\"\u001b[39;00m\n\u001b[1;32m--> 529\u001b[0m     \u001b[39mself\u001b[39;49m\u001b[39m.\u001b[39;49m_check_feature_names(X, reset\u001b[39m=\u001b[39;49mreset)\n\u001b[0;32m    531\u001b[0m     \u001b[39mif\u001b[39;00m y \u001b[39mis\u001b[39;00m \u001b[39mNone\u001b[39;00m \u001b[39mand\u001b[39;00m \u001b[39mself\u001b[39m\u001b[39m.\u001b[39m_get_tags()[\u001b[39m\"\u001b[39m\u001b[39mrequires_y\u001b[39m\u001b[39m\"\u001b[39m]:\n\u001b[0;32m    532\u001b[0m         \u001b[39mraise\u001b[39;00m \u001b[39mValueError\u001b[39;00m(\n\u001b[0;32m    533\u001b[0m             \u001b[39mf\u001b[39m\u001b[39m\"\u001b[39m\u001b[39mThis \u001b[39m\u001b[39m{\u001b[39;00m\u001b[39mself\u001b[39m\u001b[39m.\u001b[39m\u001b[39m__class__\u001b[39m\u001b[39m.\u001b[39m\u001b[39m__name__\u001b[39m\u001b[39m}\u001b[39;00m\u001b[39m estimator \u001b[39m\u001b[39m\"\u001b[39m\n\u001b[0;32m    534\u001b[0m             \u001b[39m\"\u001b[39m\u001b[39mrequires y to be passed, but the target y is None.\u001b[39m\u001b[39m\"\u001b[39m\n\u001b[0;32m    535\u001b[0m         )\n",
      "File \u001b[1;32mc:\\Users\\no_mi\\AppData\\Local\\Programs\\Python\\Python311\\Lib\\site-packages\\sklearn\\base.py:462\u001b[0m, in \u001b[0;36mBaseEstimator._check_feature_names\u001b[1;34m(self, X, reset)\u001b[0m\n\u001b[0;32m    457\u001b[0m \u001b[39mif\u001b[39;00m \u001b[39mnot\u001b[39;00m missing_names \u001b[39mand\u001b[39;00m \u001b[39mnot\u001b[39;00m unexpected_names:\n\u001b[0;32m    458\u001b[0m     message \u001b[39m+\u001b[39m\u001b[39m=\u001b[39m (\n\u001b[0;32m    459\u001b[0m         \u001b[39m\"\u001b[39m\u001b[39mFeature names must be in the same order as they were in fit.\u001b[39m\u001b[39m\\n\u001b[39;00m\u001b[39m\"\u001b[39m\n\u001b[0;32m    460\u001b[0m     )\n\u001b[1;32m--> 462\u001b[0m \u001b[39mraise\u001b[39;00m \u001b[39mValueError\u001b[39;00m(message)\n",
      "\u001b[1;31mValueError\u001b[0m: The feature names should match those that were passed during fit.\nFeature names unseen at fit time:\n- RF_f1_gmodel_pred\n"
     ]
    }
   ],
   "source": [
    "## 4) Make predictions on the complementary dataset D2, and calculate the ATE_2 as the average of f1(D2) - f0(D2)\n",
    "# Predict the outcome using the f1_1 and f1_0 models, respectively. \n",
    "# Then it computes the ATE by taking the difference of the mean predicted outcomes between the two groups. \n",
    "# define predictor functions\n",
    "ATE_2 = np.mean(RF_f1_gmodel.predict(D2.drop('net_tfa', axis=1))) - np.mean(RF_f0_gmodel.predict(D2.drop('net_tfa', axis=1)))\n",
    "\n",
    "ATE_2"
   ]
  },
  {
   "cell_type": "code",
   "execution_count": 121,
   "id": "81aed5d4",
   "metadata": {},
   "outputs": [
    {
     "name": "stderr",
     "output_type": "stream",
     "text": [
      "c:\\Users\\no_mi\\AppData\\Local\\Programs\\Python\\Python311\\Lib\\site-packages\\sklearn\\base.py:413: UserWarning: X has feature names, but RandomForestRegressor was fitted without feature names\n",
      "  warnings.warn(\n"
     ]
    },
    {
     "data": {
      "text/plain": [
       "236296.99871320758"
      ]
     },
     "execution_count": 121,
     "metadata": {},
     "output_type": "execute_result"
    }
   ],
   "source": [
    "np.mean(RF_f1_gmodel.predict(D2.drop('net_tfa', axis=1)))"
   ]
  },
  {
   "cell_type": "code",
   "execution_count": 122,
   "id": "2238269c",
   "metadata": {},
   "outputs": [
    {
     "name": "stderr",
     "output_type": "stream",
     "text": [
      "c:\\Users\\no_mi\\AppData\\Local\\Programs\\Python\\Python311\\Lib\\site-packages\\sklearn\\base.py:413: UserWarning: X has feature names, but RandomForestRegressor was fitted without feature names\n",
      "  warnings.warn(\n"
     ]
    },
    {
     "data": {
      "text/plain": [
       "265458.339830581"
      ]
     },
     "execution_count": 122,
     "metadata": {},
     "output_type": "execute_result"
    }
   ],
   "source": [
    "np.mean(RF_f0_gmodel.predict(D2.drop('net_tfa', axis=1)))"
   ]
  },
  {
   "cell_type": "code",
   "execution_count": 123,
   "id": "dae5c928",
   "metadata": {},
   "outputs": [],
   "source": [
    "## 5) repeat 1-4 and switch roles between D1 and D2\n",
    "D2_1 = D2[D2['e401']==1]\n",
    "D2_0 = D2[D2['e401']==0]\n",
    "\n",
    "f2_1 = RF_f1_gmodel.fit(D2_1.drop('net_tfa', axis=1), D2_1['net_tfa'])\n",
    "f2_0 = RF_f0_gmodel.fit(D2_0.drop('net_tfa', axis=1), D2_0['net_tfa'])"
   ]
  },
  {
   "cell_type": "code",
   "execution_count": 124,
   "id": "933af331",
   "metadata": {},
   "outputs": [
    {
     "data": {
      "text/html": [
       "<style>#sk-container-id-7 {color: black;background-color: white;}#sk-container-id-7 pre{padding: 0;}#sk-container-id-7 div.sk-toggleable {background-color: white;}#sk-container-id-7 label.sk-toggleable__label {cursor: pointer;display: block;width: 100%;margin-bottom: 0;padding: 0.3em;box-sizing: border-box;text-align: center;}#sk-container-id-7 label.sk-toggleable__label-arrow:before {content: \"▸\";float: left;margin-right: 0.25em;color: #696969;}#sk-container-id-7 label.sk-toggleable__label-arrow:hover:before {color: black;}#sk-container-id-7 div.sk-estimator:hover label.sk-toggleable__label-arrow:before {color: black;}#sk-container-id-7 div.sk-toggleable__content {max-height: 0;max-width: 0;overflow: hidden;text-align: left;background-color: #f0f8ff;}#sk-container-id-7 div.sk-toggleable__content pre {margin: 0.2em;color: black;border-radius: 0.25em;background-color: #f0f8ff;}#sk-container-id-7 input.sk-toggleable__control:checked~div.sk-toggleable__content {max-height: 200px;max-width: 100%;overflow: auto;}#sk-container-id-7 input.sk-toggleable__control:checked~label.sk-toggleable__label-arrow:before {content: \"▾\";}#sk-container-id-7 div.sk-estimator input.sk-toggleable__control:checked~label.sk-toggleable__label {background-color: #d4ebff;}#sk-container-id-7 div.sk-label input.sk-toggleable__control:checked~label.sk-toggleable__label {background-color: #d4ebff;}#sk-container-id-7 input.sk-hidden--visually {border: 0;clip: rect(1px 1px 1px 1px);clip: rect(1px, 1px, 1px, 1px);height: 1px;margin: -1px;overflow: hidden;padding: 0;position: absolute;width: 1px;}#sk-container-id-7 div.sk-estimator {font-family: monospace;background-color: #f0f8ff;border: 1px dotted black;border-radius: 0.25em;box-sizing: border-box;margin-bottom: 0.5em;}#sk-container-id-7 div.sk-estimator:hover {background-color: #d4ebff;}#sk-container-id-7 div.sk-parallel-item::after {content: \"\";width: 100%;border-bottom: 1px solid gray;flex-grow: 1;}#sk-container-id-7 div.sk-label:hover label.sk-toggleable__label {background-color: #d4ebff;}#sk-container-id-7 div.sk-serial::before {content: \"\";position: absolute;border-left: 1px solid gray;box-sizing: border-box;top: 0;bottom: 0;left: 50%;z-index: 0;}#sk-container-id-7 div.sk-serial {display: flex;flex-direction: column;align-items: center;background-color: white;padding-right: 0.2em;padding-left: 0.2em;position: relative;}#sk-container-id-7 div.sk-item {position: relative;z-index: 1;}#sk-container-id-7 div.sk-parallel {display: flex;align-items: stretch;justify-content: center;background-color: white;position: relative;}#sk-container-id-7 div.sk-item::before, #sk-container-id-7 div.sk-parallel-item::before {content: \"\";position: absolute;border-left: 1px solid gray;box-sizing: border-box;top: 0;bottom: 0;left: 50%;z-index: -1;}#sk-container-id-7 div.sk-parallel-item {display: flex;flex-direction: column;z-index: 1;position: relative;background-color: white;}#sk-container-id-7 div.sk-parallel-item:first-child::after {align-self: flex-end;width: 50%;}#sk-container-id-7 div.sk-parallel-item:last-child::after {align-self: flex-start;width: 50%;}#sk-container-id-7 div.sk-parallel-item:only-child::after {width: 0;}#sk-container-id-7 div.sk-dashed-wrapped {border: 1px dashed gray;margin: 0 0.4em 0.5em 0.4em;box-sizing: border-box;padding-bottom: 0.4em;background-color: white;}#sk-container-id-7 div.sk-label label {font-family: monospace;font-weight: bold;display: inline-block;line-height: 1.2em;}#sk-container-id-7 div.sk-label-container {text-align: center;}#sk-container-id-7 div.sk-container {/* jupyter's `normalize.less` sets `[hidden] { display: none; }` but bootstrap.min.css set `[hidden] { display: none !important; }` so we also need the `!important` here to be able to override the default hidden behavior on the sphinx rendered scikit-learn.org. See: https://github.com/scikit-learn/scikit-learn/issues/21755 */display: inline-block !important;position: relative;}#sk-container-id-7 div.sk-text-repr-fallback {display: none;}</style><div id=\"sk-container-id-7\" class=\"sk-top-container\"><div class=\"sk-text-repr-fallback\"><pre>GridSearchCV(cv=5,\n",
       "             estimator=RandomForestRegressor(max_depth=7, max_features=3,\n",
       "                                             min_samples_leaf=3,\n",
       "                                             n_estimators=500),\n",
       "             param_grid={&#x27;min_samples_leaf&#x27;: [5, 7, 8, 9, 10, 11, 12, 13, 14,\n",
       "                                              15],\n",
       "                         &#x27;n_estimators&#x27;: [50, 60, 70, 80, 90, 100, 110, 120,\n",
       "                                          130]},\n",
       "             scoring=&#x27;r2&#x27;)</pre><b>In a Jupyter environment, please rerun this cell to show the HTML representation or trust the notebook. <br />On GitHub, the HTML representation is unable to render, please try loading this page with nbviewer.org.</b></div><div class=\"sk-container\" hidden><div class=\"sk-item sk-dashed-wrapped\"><div class=\"sk-label-container\"><div class=\"sk-label sk-toggleable\"><input class=\"sk-toggleable__control sk-hidden--visually\" id=\"sk-estimator-id-19\" type=\"checkbox\" ><label for=\"sk-estimator-id-19\" class=\"sk-toggleable__label sk-toggleable__label-arrow\">GridSearchCV</label><div class=\"sk-toggleable__content\"><pre>GridSearchCV(cv=5,\n",
       "             estimator=RandomForestRegressor(max_depth=7, max_features=3,\n",
       "                                             min_samples_leaf=3,\n",
       "                                             n_estimators=500),\n",
       "             param_grid={&#x27;min_samples_leaf&#x27;: [5, 7, 8, 9, 10, 11, 12, 13, 14,\n",
       "                                              15],\n",
       "                         &#x27;n_estimators&#x27;: [50, 60, 70, 80, 90, 100, 110, 120,\n",
       "                                          130]},\n",
       "             scoring=&#x27;r2&#x27;)</pre></div></div></div><div class=\"sk-parallel\"><div class=\"sk-parallel-item\"><div class=\"sk-item\"><div class=\"sk-label-container\"><div class=\"sk-label sk-toggleable\"><input class=\"sk-toggleable__control sk-hidden--visually\" id=\"sk-estimator-id-20\" type=\"checkbox\" ><label for=\"sk-estimator-id-20\" class=\"sk-toggleable__label sk-toggleable__label-arrow\">estimator: RandomForestRegressor</label><div class=\"sk-toggleable__content\"><pre>RandomForestRegressor(max_depth=7, max_features=3, min_samples_leaf=3,\n",
       "                      n_estimators=500)</pre></div></div></div><div class=\"sk-serial\"><div class=\"sk-item\"><div class=\"sk-estimator sk-toggleable\"><input class=\"sk-toggleable__control sk-hidden--visually\" id=\"sk-estimator-id-21\" type=\"checkbox\" ><label for=\"sk-estimator-id-21\" class=\"sk-toggleable__label sk-toggleable__label-arrow\">RandomForestRegressor</label><div class=\"sk-toggleable__content\"><pre>RandomForestRegressor(max_depth=7, max_features=3, min_samples_leaf=3,\n",
       "                      n_estimators=500)</pre></div></div></div></div></div></div></div></div></div></div>"
      ],
      "text/plain": [
       "GridSearchCV(cv=5,\n",
       "             estimator=RandomForestRegressor(max_depth=7, max_features=3,\n",
       "                                             min_samples_leaf=3,\n",
       "                                             n_estimators=500),\n",
       "             param_grid={'min_samples_leaf': [5, 7, 8, 9, 10, 11, 12, 13, 14,\n",
       "                                              15],\n",
       "                         'n_estimators': [50, 60, 70, 80, 90, 100, 110, 120,\n",
       "                                          130]},\n",
       "             scoring='r2')"
      ]
     },
     "execution_count": 124,
     "metadata": {},
     "output_type": "execute_result"
    }
   ],
   "source": [
    "## 5a) repeat 1-4 and switch roles between D1 and D2\n",
    "\n",
    "# Start with D2. Split D2 into two: D2_1 with e401 = 1, D2_0 with e401 = 0\n",
    "D2_1 = D2[D2['e401']==1]\n",
    "D2_0 = D2[D2['e401']==0]\n",
    "#3) Train two models, one for D2_1, and another for D2_0, f1 and f0, respectively \n",
    "\n",
    "## Data Prep\n",
    "\n",
    "## make x and y\n",
    "D2_0_X = D2_0.loc[:, D2_0.columns != 'net_tfa']\n",
    "D2_1_X = D2_1.loc[:, D2_1.columns != 'net_tfa']\n",
    "\n",
    "D2_0_y = D2_0['net_tfa']\n",
    "D2_1_y = D2_1['net_tfa']\n",
    "\n",
    "## split into train and test sets\n",
    "\n",
    "D2_0_X_train, D2_0_X_test, D2_0_y_train, D2_0_y_test = train_test_split(D2_0_X, D2_0_y)\n",
    "\n",
    "D2_1_X_train, D2_1_X_test, D2_1_y_train, D2_1_y_test = train_test_split(D2_1_X, D2_1_y)\n",
    "\n",
    "\n",
    "## scale data\n",
    "\n",
    "scaler_D2_0 = StandardScaler()\n",
    "scaler_D2_0.fit(D2_0_X_train)\n",
    "D2_0_X_train_scl = scaler_D2_0.transform(D2_0_X_train)\n",
    "D2_0_X_test_scl = scaler_D2_0.transform(D2_0_X_test)\n",
    "\n",
    "scaler_D2_1 = StandardScaler()\n",
    "scaler_D2_1.fit(D2_0_X_train)\n",
    "D2_1_X_train_scl = scaler_D2_1.transform(D2_1_X_train)\n",
    "D2_1_X_test_scl = scaler_D2_1.transform(D2_1_X_test)\n",
    "\n",
    "\n",
    "RF_param_grid = {\n",
    "    'n_estimators':[50, 60, 70, 80, 90, 100, 110, 120, 130],\n",
    "    'min_samples_leaf':[5, 7, 8, 9, 10, 11, 12, 13, 14, 15],\n",
    "}\n",
    "\n",
    "#f0\n",
    "RF2_f0 = RandomForestRegressor(\n",
    "    n_estimators=500, max_depth=7, max_features=3, min_samples_leaf=3)\n",
    "\n",
    "RF2_f0_gmodel = GridSearchCV(RF2_f0, param_grid=RF_param_grid, scoring='r2', cv=5)\n",
    "\n",
    "\n",
    "RF2_f0_gmodel.fit(D2_0_X_train_scl, D2_0_y_train)\n",
    "\n",
    "\n",
    "#f1\n",
    "RF2_f1 = RandomForestRegressor(\n",
    "    n_estimators=500, max_depth=7, max_features=3, min_samples_leaf=3)\n",
    "\n",
    "RF2_f1_gmodel = GridSearchCV(RF2_f1, param_grid=RF_param_grid, scoring='r2', cv=5)\n",
    "\n",
    "RF2_f1_gmodel.fit(D2_1_X_train_scl, D2_1_y_train)"
   ]
  },
  {
   "cell_type": "code",
   "execution_count": 125,
   "id": "278aab96",
   "metadata": {},
   "outputs": [
    {
     "name": "stderr",
     "output_type": "stream",
     "text": [
      "c:\\Users\\no_mi\\AppData\\Local\\Programs\\Python\\Python311\\Lib\\site-packages\\sklearn\\base.py:413: UserWarning: X has feature names, but RandomForestRegressor was fitted without feature names\n",
      "  warnings.warn(\n",
      "c:\\Users\\no_mi\\AppData\\Local\\Programs\\Python\\Python311\\Lib\\site-packages\\sklearn\\base.py:413: UserWarning: X has feature names, but RandomForestRegressor was fitted without feature names\n",
      "  warnings.warn(\n"
     ]
    },
    {
     "data": {
      "text/plain": [
       "-18797.29032235779"
      ]
     },
     "execution_count": 125,
     "metadata": {},
     "output_type": "execute_result"
    }
   ],
   "source": [
    "## 5b) Make predictions on the complementary dataset D2, and calculate the ATE_2 as the average of f1(D2) - f0(D2)\n",
    "# Predict the outcome using the f1_1 and f1_0 models, respectively. \n",
    "# Then it computes the ATE by taking the difference of the mean predicted outcomes between the two groups. \n",
    "# define predictor functions\n",
    "ATE_1 = np.mean(RF2_f1_gmodel.predict(D1.drop('net_tfa', axis=1))) - np.mean(RF2_f0_gmodel.predict(D1.drop('net_tfa', axis=1)))\n",
    "\n",
    "ATE_1"
   ]
  },
  {
   "cell_type": "code",
   "execution_count": 126,
   "id": "382bd45b",
   "metadata": {},
   "outputs": [
    {
     "data": {
      "text/plain": [
       "-23979.315719865597"
      ]
     },
     "execution_count": 126,
     "metadata": {},
     "output_type": "execute_result"
    }
   ],
   "source": [
    "## calculate the ATE = (ATE_1 + ATE_2)/2\n",
    "ATE = (ATE_1 + ATE_2)/2\n",
    "ATE"
   ]
  },
  {
   "cell_type": "code",
   "execution_count": null,
   "id": "350679b3",
   "metadata": {},
   "outputs": [],
   "source": []
  },
  {
   "cell_type": "code",
   "execution_count": null,
   "id": "6be03ec9",
   "metadata": {},
   "outputs": [
    {
     "data": {
      "text/plain": [
       "30347.389"
      ]
     },
     "metadata": {},
     "output_type": "display_data"
    }
   ],
   "source": [
    "mean_tfa_e401_1 = data.loc[data['e401'] == 1, 'net_tfa'].mean()\n",
    "mean_tfa_e401_1"
   ]
  },
  {
   "cell_type": "code",
   "execution_count": 138,
   "id": "9f292323",
   "metadata": {},
   "outputs": [
    {
     "data": {
      "text/plain": [
       "10788.046"
      ]
     },
     "execution_count": 138,
     "metadata": {},
     "output_type": "execute_result"
    }
   ],
   "source": [
    "mean_tfa_e401_1 = data.loc[data['e401'] == 0, 'net_tfa'].mean()\n",
    "mean_tfa_e401_1"
   ]
  },
  {
   "cell_type": "code",
   "execution_count": 134,
   "id": "b9ba2bc0",
   "metadata": {},
   "outputs": [
    {
     "data": {
      "text/plain": [
       "31022.516"
      ]
     },
     "execution_count": 134,
     "metadata": {},
     "output_type": "execute_result"
    }
   ],
   "source": [
    "mean_tfa_e401_1 = D2.loc[D2['e401'] == 1, 'net_tfa'].mean()\n",
    "mean_tfa_e401_1"
   ]
  },
  {
   "cell_type": "code",
   "execution_count": 135,
   "id": "9d17e222",
   "metadata": {},
   "outputs": [
    {
     "data": {
      "text/plain": [
       "11176.286"
      ]
     },
     "execution_count": 135,
     "metadata": {},
     "output_type": "execute_result"
    }
   ],
   "source": [
    "mean_tfa_e401_1 = D2.loc[D2['e401'] == 0, 'net_tfa'].mean()\n",
    "mean_tfa_e401_1"
   ]
  },
  {
   "cell_type": "code",
   "execution_count": 136,
   "id": "b33bf5db",
   "metadata": {},
   "outputs": [
    {
     "data": {
      "text/plain": [
       "29672.264"
      ]
     },
     "execution_count": 136,
     "metadata": {},
     "output_type": "execute_result"
    }
   ],
   "source": [
    "mean_tfa_e401_1 = D1.loc[D1['e401'] == 1, 'net_tfa'].mean()\n",
    "mean_tfa_e401_1"
   ]
  },
  {
   "cell_type": "code",
   "execution_count": 137,
   "id": "f6e9bd8e",
   "metadata": {},
   "outputs": [
    {
     "data": {
      "text/plain": [
       "10399.678"
      ]
     },
     "execution_count": 137,
     "metadata": {},
     "output_type": "execute_result"
    }
   ],
   "source": [
    "mean_tfa_e401_1 = D1.loc[D1['e401'] == 0, 'net_tfa'].mean()\n",
    "mean_tfa_e401_1"
   ]
  },
  {
   "cell_type": "code",
   "execution_count": 64,
   "id": "5c7b85fa",
   "metadata": {},
   "outputs": [
    {
     "data": {
      "text/plain": [
       "['accuracy',\n",
       " 'adjusted_mutual_info_score',\n",
       " 'adjusted_rand_score',\n",
       " 'average_precision',\n",
       " 'balanced_accuracy',\n",
       " 'completeness_score',\n",
       " 'explained_variance',\n",
       " 'f1',\n",
       " 'f1_macro',\n",
       " 'f1_micro',\n",
       " 'f1_samples',\n",
       " 'f1_weighted',\n",
       " 'fowlkes_mallows_score',\n",
       " 'homogeneity_score',\n",
       " 'jaccard',\n",
       " 'jaccard_macro',\n",
       " 'jaccard_micro',\n",
       " 'jaccard_samples',\n",
       " 'jaccard_weighted',\n",
       " 'matthews_corrcoef',\n",
       " 'max_error',\n",
       " 'mutual_info_score',\n",
       " 'neg_brier_score',\n",
       " 'neg_log_loss',\n",
       " 'neg_mean_absolute_error',\n",
       " 'neg_mean_absolute_percentage_error',\n",
       " 'neg_mean_gamma_deviance',\n",
       " 'neg_mean_poisson_deviance',\n",
       " 'neg_mean_squared_error',\n",
       " 'neg_mean_squared_log_error',\n",
       " 'neg_median_absolute_error',\n",
       " 'neg_root_mean_squared_error',\n",
       " 'normalized_mutual_info_score',\n",
       " 'precision',\n",
       " 'precision_macro',\n",
       " 'precision_micro',\n",
       " 'precision_samples',\n",
       " 'precision_weighted',\n",
       " 'r2',\n",
       " 'rand_score',\n",
       " 'recall',\n",
       " 'recall_macro',\n",
       " 'recall_micro',\n",
       " 'recall_samples',\n",
       " 'recall_weighted',\n",
       " 'roc_auc',\n",
       " 'roc_auc_ovo',\n",
       " 'roc_auc_ovo_weighted',\n",
       " 'roc_auc_ovr',\n",
       " 'roc_auc_ovr_weighted',\n",
       " 'top_k_accuracy',\n",
       " 'v_measure_score']"
      ]
     },
     "execution_count": 64,
     "metadata": {},
     "output_type": "execute_result"
    }
   ],
   "source": [
    "# Step 4-6\n",
    "\n"
   ]
  },
  {
   "cell_type": "code",
   "execution_count": null,
   "id": "c911263d",
   "metadata": {},
   "outputs": [],
   "source": [
    "'''\n",
    "4) Make predictions on the complementary dataset D2, and calculate the ATE_2 as the average of f1(D2) - f0(D2)\n",
    "5) Repeat the process switching roles between D1 and D2, and calculate the ATE = (ATE_1 + ATE_2)/2\n",
    "6) Include the previous process inside a ‘for’ loop.\n",
    "'''"
   ]
  },
  {
   "cell_type": "code",
   "execution_count": null,
   "id": "5dda69dc",
   "metadata": {},
   "outputs": [],
   "source": [
    "#code"
   ]
  },
  {
   "cell_type": "code",
   "execution_count": null,
   "id": "61b7cccc",
   "metadata": {},
   "outputs": [],
   "source": [
    "#Step 7 & 8 and documentation"
   ]
  },
  {
   "cell_type": "code",
   "execution_count": null,
   "id": "23f8612b",
   "metadata": {},
   "outputs": [],
   "source": [
    "'''\n",
    "7) Pick a random sample (with replacement) of the original dataset D, which we will call D_boostrap, and calculate the ATE with the process described in the previous slide of the D_boostrap\n",
    "8) Get the results for all the resamplings and calculate the mean and confidence intervals (quantiles 2.5%, 97.5%) of the ATEs.\n",
    "'''"
   ]
  },
  {
   "cell_type": "code",
   "execution_count": null,
   "id": "c32d34d6",
   "metadata": {},
   "outputs": [],
   "source": [
    "#code"
   ]
  }
 ],
 "metadata": {
  "kernelspec": {
   "display_name": "Python 3",
   "language": "python",
   "name": "python3"
  },
  "language_info": {
   "codemirror_mode": {
    "name": "ipython",
    "version": 3
   },
   "file_extension": ".py",
   "mimetype": "text/x-python",
   "name": "python",
   "nbconvert_exporter": "python",
   "pygments_lexer": "ipython3",
   "version": "3.11.1"
  },
  "vscode": {
   "interpreter": {
    "hash": "548e5b466d0e043917034848839118579ed3b0d121e3585b1c79bae1355f20fe"
   }
  }
 },
 "nbformat": 4,
 "nbformat_minor": 5
}
